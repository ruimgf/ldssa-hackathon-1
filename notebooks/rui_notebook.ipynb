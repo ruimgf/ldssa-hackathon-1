{
 "cells": [
  {
   "cell_type": "markdown",
   "metadata": {},
   "source": [
    "# Hackathon #1 - Binary Classification - Template\n",
    "Always check the [Reference Document](https://docs.google.com/document/d/1A-1-UK9ol4tegfU4YQySEiBXBeqbx_tu1qdmiMAzNCM/edit?usp=sharing) for all information ;) \n",
    "\n",
    "Remember to keep your workflow consistent!\n",
    "\n",
    "## Regarding the Data\n",
    "- The dataset can be loaded with `load_data()` (check the already provided code below). It will output two dataframes:\n",
    "  - `train`: labeled dataset (with target) \n",
    "  - `test`: unlabeled dataset (target is not available)\n",
    "- You will use the `train` data to do your magic! When you are finished and have a predictive model you will have to make predictions using the `test` data and submit it to our platform (where you will get a AUC value - kind of what happens in Kaggle competitions). Check the file `submission_example.csv` for an example and the [Reference Document](https://docs.google.com/document/d/1A-1-UK9ol4tegfU4YQySEiBXBeqbx_tu1qdmiMAzNCM/edit?usp=sharing) for further information.\n",
    "- You can and should perform train-test splits on the `train` data that you have available. Cross-validation is highly recommended. \n",
    "- The target name is `TomorrowRainForecast`: it is either 1 (rains tomorrow) and 0 (does not rain tomorrow).\n",
    "- The `ID` is the identification variable which is very important for keeping track of the predictions you will make on the `test` data.\n",
    "\n",
    "*Good luck,  \n",
    "LDSA team*"
   ]
  },
  {
   "cell_type": "code",
   "execution_count": 2,
   "metadata": {},
   "outputs": [],
   "source": [
    "%load_ext autoreload"
   ]
  },
  {
   "cell_type": "code",
   "execution_count": 3,
   "metadata": {},
   "outputs": [],
   "source": [
    "# some useful imports\n",
    "import pandas as pd\n",
    "import numpy as np\n",
    "\n",
    "import seaborn as sns\n",
    "import matplotlib.pyplot as plt\n",
    "\n",
    "from sklearn.ensemble import RandomForestClassifier,GradientBoostingClassifier\n",
    "from sklearn.model_selection import train_test_split\n",
    "from sklearn.metrics import roc_auc_score\n",
    "from sklearn.decomposition import PCA\n",
    "from scipy.stats import randint\n",
    "from sklearn.model_selection import RandomizedSearchCV\n",
    "from sklearn.model_selection import cross_val_score, cross_validate\n",
    "\n",
    "from sklearn.naive_bayes import GaussianNB\n",
    "\n",
    "from sklearn.linear_model import LogisticRegression\n",
    "\n",
    "from utils import read_and_process\n",
    "% autoreload 2\n",
    "%matplotlib inline"
   ]
  },
  {
   "cell_type": "code",
   "execution_count": 4,
   "metadata": {},
   "outputs": [],
   "source": [
    "def load_data(data_dir='../data/'):\n",
    "    train = pd.read_csv(data_dir+'train.csv')\n",
    "    test = pd.read_csv(data_dir+'test.csv')\n",
    "    return train, test"
   ]
  },
  {
   "cell_type": "markdown",
   "metadata": {},
   "source": [
    "# 1. Load Data\n",
    "Load the `train` and `test` datasets"
   ]
  },
  {
   "cell_type": "code",
   "execution_count": 5,
   "metadata": {},
   "outputs": [],
   "source": [
    "train, test = load_data()"
   ]
  },
  {
   "cell_type": "code",
   "execution_count": 6,
   "metadata": {},
   "outputs": [
    {
     "data": {
      "text/plain": [
       "ID                      3315.5\n",
       "AmountRain                 5.4\n",
       "StrongWindSpeed           35.0\n",
       "AfternoonWindSpeed        15.0\n",
       "MorningHumidity           87.0\n",
       "AfternoonHumidity         63.0\n",
       "MorningTemp               15.2\n",
       "AfternoonTemp             18.8\n",
       "DaysSinceNewYear         174.0\n",
       "TomorrowRainForecast       0.0\n",
       "dtype: float64"
      ]
     },
     "execution_count": 6,
     "metadata": {},
     "output_type": "execute_result"
    }
   ],
   "source": [
    "train[train.DidRainToday=='Yes'].median()"
   ]
  },
  {
   "cell_type": "code",
   "execution_count": 6,
   "metadata": {
    "scrolled": true
   },
   "outputs": [
    {
     "data": {
      "text/html": [
       "<div>\n",
       "<style scoped>\n",
       "    .dataframe tbody tr th:only-of-type {\n",
       "        vertical-align: middle;\n",
       "    }\n",
       "\n",
       "    .dataframe tbody tr th {\n",
       "        vertical-align: top;\n",
       "    }\n",
       "\n",
       "    .dataframe thead th {\n",
       "        text-align: right;\n",
       "    }\n",
       "</style>\n",
       "<table border=\"1\" class=\"dataframe\">\n",
       "  <thead>\n",
       "    <tr style=\"text-align: right;\">\n",
       "      <th></th>\n",
       "      <th>ID</th>\n",
       "      <th>AmountRain</th>\n",
       "      <th>StrongWindDir</th>\n",
       "      <th>StrongWindSpeed</th>\n",
       "      <th>MorningWindDir</th>\n",
       "      <th>AfternoonWindDir</th>\n",
       "      <th>AfternoonWindSpeed</th>\n",
       "      <th>MorningHumidity</th>\n",
       "      <th>AfternoonHumidity</th>\n",
       "      <th>MorningTemp</th>\n",
       "      <th>AfternoonTemp</th>\n",
       "      <th>DidRainToday</th>\n",
       "      <th>DaysSinceNewYear</th>\n",
       "      <th>TomorrowRainForecast</th>\n",
       "    </tr>\n",
       "  </thead>\n",
       "  <tbody>\n",
       "    <tr>\n",
       "      <th>0</th>\n",
       "      <td>5683</td>\n",
       "      <td>0.0</td>\n",
       "      <td>WSW</td>\n",
       "      <td>43.0</td>\n",
       "      <td>N</td>\n",
       "      <td>SW</td>\n",
       "      <td>17.0</td>\n",
       "      <td>82.0</td>\n",
       "      <td>51.0</td>\n",
       "      <td>15.4</td>\n",
       "      <td>20.8</td>\n",
       "      <td>No</td>\n",
       "      <td>268</td>\n",
       "      <td>0</td>\n",
       "    </tr>\n",
       "    <tr>\n",
       "      <th>1</th>\n",
       "      <td>2971</td>\n",
       "      <td>0.0</td>\n",
       "      <td>E</td>\n",
       "      <td>15.0</td>\n",
       "      <td>NaN</td>\n",
       "      <td>SE</td>\n",
       "      <td>7.0</td>\n",
       "      <td>91.0</td>\n",
       "      <td>63.0</td>\n",
       "      <td>9.7</td>\n",
       "      <td>16.6</td>\n",
       "      <td>No</td>\n",
       "      <td>136</td>\n",
       "      <td>0</td>\n",
       "    </tr>\n",
       "    <tr>\n",
       "      <th>2</th>\n",
       "      <td>3560</td>\n",
       "      <td>0.0</td>\n",
       "      <td>S</td>\n",
       "      <td>33.0</td>\n",
       "      <td>WSW</td>\n",
       "      <td>WSW</td>\n",
       "      <td>17.0</td>\n",
       "      <td>58.0</td>\n",
       "      <td>38.0</td>\n",
       "      <td>10.9</td>\n",
       "      <td>15.9</td>\n",
       "      <td>No</td>\n",
       "      <td>217</td>\n",
       "      <td>0</td>\n",
       "    </tr>\n",
       "    <tr>\n",
       "      <th>3</th>\n",
       "      <td>2304</td>\n",
       "      <td>10.0</td>\n",
       "      <td>NE</td>\n",
       "      <td>30.0</td>\n",
       "      <td>S</td>\n",
       "      <td>SSE</td>\n",
       "      <td>11.0</td>\n",
       "      <td>96.0</td>\n",
       "      <td>93.0</td>\n",
       "      <td>4.7</td>\n",
       "      <td>6.4</td>\n",
       "      <td>Yes</td>\n",
       "      <td>195</td>\n",
       "      <td>1</td>\n",
       "    </tr>\n",
       "    <tr>\n",
       "      <th>4</th>\n",
       "      <td>3573</td>\n",
       "      <td>0.0</td>\n",
       "      <td>WSW</td>\n",
       "      <td>48.0</td>\n",
       "      <td>NaN</td>\n",
       "      <td>SW</td>\n",
       "      <td>26.0</td>\n",
       "      <td>59.0</td>\n",
       "      <td>40.0</td>\n",
       "      <td>11.5</td>\n",
       "      <td>15.9</td>\n",
       "      <td>No</td>\n",
       "      <td>232</td>\n",
       "      <td>0</td>\n",
       "    </tr>\n",
       "  </tbody>\n",
       "</table>\n",
       "</div>"
      ],
      "text/plain": [
       "     ID  AmountRain StrongWindDir  StrongWindSpeed MorningWindDir  \\\n",
       "0  5683         0.0           WSW             43.0              N   \n",
       "1  2971         0.0             E             15.0            NaN   \n",
       "2  3560         0.0             S             33.0            WSW   \n",
       "3  2304        10.0            NE             30.0              S   \n",
       "4  3573         0.0           WSW             48.0            NaN   \n",
       "\n",
       "  AfternoonWindDir  AfternoonWindSpeed  MorningHumidity  AfternoonHumidity  \\\n",
       "0               SW                17.0             82.0               51.0   \n",
       "1               SE                 7.0             91.0               63.0   \n",
       "2              WSW                17.0             58.0               38.0   \n",
       "3              SSE                11.0             96.0               93.0   \n",
       "4               SW                26.0             59.0               40.0   \n",
       "\n",
       "   MorningTemp  AfternoonTemp DidRainToday  DaysSinceNewYear  \\\n",
       "0         15.4           20.8           No               268   \n",
       "1          9.7           16.6           No               136   \n",
       "2         10.9           15.9           No               217   \n",
       "3          4.7            6.4          Yes               195   \n",
       "4         11.5           15.9           No               232   \n",
       "\n",
       "   TomorrowRainForecast  \n",
       "0                     0  \n",
       "1                     0  \n",
       "2                     0  \n",
       "3                     1  \n",
       "4                     0  "
      ]
     },
     "execution_count": 6,
     "metadata": {},
     "output_type": "execute_result"
    }
   ],
   "source": [
    "train.head()"
   ]
  },
  {
   "cell_type": "markdown",
   "metadata": {},
   "source": [
    "# Do your magic!"
   ]
  },
  {
   "cell_type": "code",
   "execution_count": 20,
   "metadata": {},
   "outputs": [
    {
     "name": "stdout",
     "output_type": "stream",
     "text": [
      "TomorrowRainForecast\n",
      "0    5607\n",
      "1    5384\n",
      "dtype: int64\n"
     ]
    },
    {
     "data": {
      "text/plain": [
       "AmountRain            0\n",
       "StrongWindSpeed       0\n",
       "AfternoonWindSpeed    0\n",
       "MorningHumidity       0\n",
       "AfternoonHumidity     0\n",
       "MorningTemp           0\n",
       "AfternoonTemp         0\n",
       "DaysSinceNewYear      0\n",
       "MorningWindDir_E      0\n",
       "MorningWindDir_ENE    0\n",
       "MorningWindDir_ESE    0\n",
       "MorningWindDir_N      0\n",
       "MorningWindDir_NE     0\n",
       "MorningWindDir_NNE    0\n",
       "MorningWindDir_NNW    0\n",
       "MorningWindDir_NW     0\n",
       "MorningWindDir_S      0\n",
       "MorningWindDir_SE     0\n",
       "MorningWindDir_SSE    0\n",
       "MorningWindDir_SSW    0\n",
       "MorningWindDir_SW     0\n",
       "MorningWindDir_W      0\n",
       "MorningWindDir_WNW    0\n",
       "MorningWindDir_WSW    0\n",
       "diff_temp             0\n",
       "dtype: int64"
      ]
     },
     "execution_count": 20,
     "metadata": {},
     "output_type": "execute_result"
    }
   ],
   "source": [
    "train, test = load_data()\n",
    "train = pd.concat([train,\n",
    "                   train[train.TomorrowRainForecast==1],\n",
    "                   train[train.TomorrowRainForecast==1],\n",
    "                   train[train.TomorrowRainForecast==1]\n",
    "                  ])\n",
    "y = train['TomorrowRainForecast']\n",
    "print(train.groupby(['TomorrowRainForecast']).size())\n",
    "train = train.drop(columns='TomorrowRainForecast')\n",
    "X = read_and_process(train)\n",
    "X.isnull().sum()"
   ]
  },
  {
   "cell_type": "code",
   "execution_count": 19,
   "metadata": {},
   "outputs": [
    {
     "data": {
      "text/plain": [
       "0.8981508024104902"
      ]
     },
     "execution_count": 19,
     "metadata": {},
     "output_type": "execute_result"
    }
   ],
   "source": [
    "clf = GradientBoostingClassifier(n_estimators=100,random_state=42)\n",
    "X_train, X_test, y_train, y_test = train_test_split(X, y,random_state=42)\n",
    "clf.fit(X_train,y_train)\n",
    "y_pred = clf.predict_proba(X_test)[:,1]\n",
    "roc_auc_score(y_test,y_pred)"
   ]
  },
  {
   "cell_type": "code",
   "execution_count": 117,
   "metadata": {},
   "outputs": [
    {
     "name": "stdout",
     "output_type": "stream",
     "text": [
      "0.8721211939002287\n"
     ]
    }
   ],
   "source": [
    "clf = GradientBoostingClassifier(n_estimators=99)\n",
    "randomized_search = RandomizedSearchCV(\n",
    "                       clf,\n",
    "                       params,\n",
    "                       cv=5, n_iter=1,\n",
    "                       random_state=99,\n",
    "                       return_train_score=True,\n",
    "                       scoring='roc_auc'\n",
    ")\n",
    "X_train, X_test, y_train, y_test = train_test_split(X, y,random_state=42)\n",
    "randomized_search.fit(X,y)\n",
    "print(randomized_search.best_score_)\n",
    "#results = cross_validate(randomized_search.best_estimator_, X_test, y_test, scoring=\"roc_auc\",\n",
    "#                             return_train_score=True, cv=5)\n",
    "#print(np.nean(results))\n",
    "best_p = randomized_search.best_params_\n",
    "#clf = LogisticRegression(C=best_p[\"C\"], penalty=best_p['penalty'])\n",
    "#clf.fit(X,y)"
   ]
  },
  {
   "cell_type": "code",
   "execution_count": 113,
   "metadata": {},
   "outputs": [
    {
     "name": "stdout",
     "output_type": "stream",
     "text": [
      "{'n_estimators': 99}\n"
     ]
    }
   ],
   "source": [
    "print(best_p)"
   ]
  },
  {
   "cell_type": "code",
   "execution_count": null,
   "metadata": {},
   "outputs": [],
   "source": [
    "features_importance = pd.Series(index=X_train.columns,data=clf.feature_importances_)\n",
    "features_importance.nlargest(20).plot.barh()"
   ]
  },
  {
   "cell_type": "code",
   "execution_count": 126,
   "metadata": {},
   "outputs": [],
   "source": [
    "result = test.copy()\n",
    "X_submit = read_and_process(test)\n",
    "result['TomorrowRainForecast'] = y_pred = (clf.predict_proba(X_submit)[:,1] + clf2.predict_proba(X_submit)[:,1])/2\n",
    "result[['ID','TomorrowRainForecast']].to_csv('../data/submission5.csv',index=False)"
   ]
  },
  {
   "cell_type": "code",
   "execution_count": null,
   "metadata": {},
   "outputs": [],
   "source": []
  }
 ],
 "metadata": {
  "kernelspec": {
   "display_name": "Python 3",
   "language": "python",
   "name": "python3"
  },
  "language_info": {
   "codemirror_mode": {
    "name": "ipython",
    "version": 3
   },
   "file_extension": ".py",
   "mimetype": "text/x-python",
   "name": "python",
   "nbconvert_exporter": "python",
   "pygments_lexer": "ipython3",
   "version": "3.6.4"
  }
 },
 "nbformat": 4,
 "nbformat_minor": 2
}
